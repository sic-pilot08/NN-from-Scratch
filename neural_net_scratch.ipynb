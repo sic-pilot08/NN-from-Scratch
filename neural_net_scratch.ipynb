{
 "cells": [
  {
   "cell_type": "code",
   "execution_count": 3,
   "metadata": {
    "id": "C24-5kioMUkl"
   },
   "outputs": [],
   "source": [
    "import numpy as np\n",
    "import pandas as pd\n"
   ]
  },
  {
   "cell_type": "code",
   "execution_count": null,
   "metadata": {},
   "outputs": [],
   "source": [
    "def ReLU(Z):\n",
    "    return np.maximum(Z, 0)            #creating ReLu(rectifier linear unit)fucntion for activation"
   ]
  },
  {
   "cell_type": "code",
   "execution_count": null,
   "metadata": {},
   "outputs": [],
   "source": [
    "def softmax(Z):\n",
    "    A = np.exp(Z) / sum(np.exp(Z))     #creating Softmax fucntion for the activation Multi-class classifier\n",
    "    return A"
   ]
  },
  {
   "cell_type": "code",
   "execution_count": null,
   "metadata": {},
   "outputs": [],
   "source": [
    "def sigmoid(z):\n",
    "  g = 1/(1+np.exp(-z))                 #creating sigmoid function for the activation\n",
    "\n",
    "  return g"
   ]
  },
  {
   "cell_type": "code",
   "execution_count": 4,
   "metadata": {
    "id": "Z_lc8P-Tddzh"
   },
   "outputs": [],
   "source": [
    "def dense(a_in, W, b):\n",
    "  units = W.shape[1]\n",
    "  a_out = np.zeros(units)                    #implementing simple forward prop neural network by numpy\n",
    "  for j in range(units):\n",
    "    w = W[:,j]\n",
    "    z = np.dot(w, a_in) + b[j]\n",
    "    a_out[j] = g(z) "
   ]
  },
  {
   "cell_type": "code",
   "execution_count": null,
   "metadata": {
    "id": "0xp8RXx5mUaL"
   },
   "outputs": [],
   "source": [
    "def my_sequential(x, W1, b1, W2, b2):\n",
    "  a1 = dense(x, W1, b1)\n",
    "  a2 = dense(a1, W2, b2)                     #implementing simple neural network by numpy\n",
    "  \n",
    "  return(a2)"
   ]
  }
 ],
 "metadata": {
  "colab": {
   "collapsed_sections": [],
   "provenance": []
  },
  "kernelspec": {
   "display_name": "Python 3 (ipykernel)",
   "language": "python",
   "name": "python3"
  },
  "language_info": {
   "codemirror_mode": {
    "name": "ipython",
    "version": 3
   },
   "file_extension": ".py",
   "mimetype": "text/x-python",
   "name": "python",
   "nbconvert_exporter": "python",
   "pygments_lexer": "ipython3",
   "version": "3.10.2"
  }
 },
 "nbformat": 4,
 "nbformat_minor": 1
}
