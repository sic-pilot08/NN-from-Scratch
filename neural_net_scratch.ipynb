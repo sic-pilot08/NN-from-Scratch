{
  "nbformat": 4,
  "nbformat_minor": 0,
  "metadata": {
    "colab": {
      "provenance": [],
      "collapsed_sections": []
    },
    "kernelspec": {
      "name": "python3",
      "display_name": "Python 3"
    },
    "language_info": {
      "name": "python"
    }
  },
  "cells": [
    {
      "cell_type": "code",
      "source": [
        "import numpy as np\n",
        "import matplotlib.pyplot as plt\n",
        "import tensorflow as tf\n",
        "from tensorflow.keras.models import Sequential\n",
        "from tensorflow.keras.layers import Dense\n",
        "\n",
        "\n",
        "import logging\n",
        "logging.getLogger(\"tensorflow\").setLevel(logging.ERROR)\n",
        "tf.autograph.set_verbosity(0)"
      ],
      "metadata": {
        "id": "C24-5kioMUkl"
      },
      "execution_count": null,
      "outputs": []
    },
    {
      "cell_type": "code",
      "source": [
        "def dense(a_in, W, b):\n",
        "  units = W.shape[1]\n",
        "  a_out = np.zeros(units)                    #implementing simple neural network by numpy\n",
        "  for j in range(units):\n",
        "    w = W[:,j]\n",
        "    z = np.dot(w, a_in) + b[j]\n",
        "    a_out[j] = g(z) "
      ],
      "metadata": {
        "id": "Z_lc8P-Tddzh"
      },
      "execution_count": null,
      "outputs": []
    },
    {
      "cell_type": "code",
      "source": [
        "def my_sequential(x, W1, b1, W2, b2):\n",
        "  a1 = dense(x, W1, b1)\n",
        "  a2 = dense(a1, W2, b2)                     #implementing simple neural network by numpy\n",
        "  \n",
        "  return(a2)"
      ],
      "metadata": {
        "id": "0xp8RXx5mUaL"
      },
      "execution_count": null,
      "outputs": []
    }
  ]
}